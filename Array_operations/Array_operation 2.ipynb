{
 "cells": [
  {
   "cell_type": "code",
   "execution_count": 1,
   "id": "f367a39d",
   "metadata": {},
   "outputs": [],
   "source": [
    "import numpy as np\n",
    "from numpy.linalg import det\n",
    "from numpy.linalg import inv\n",
    "from math import sqrt"
   ]
  },
  {
   "cell_type": "code",
   "execution_count": 2,
   "id": "dfb9b151",
   "metadata": {},
   "outputs": [],
   "source": [
    "#Zadanie 1"
   ]
  },
  {
   "cell_type": "code",
   "execution_count": 3,
   "id": "3c218500",
   "metadata": {},
   "outputs": [],
   "source": [
    "w=np.array([[1,2,1,0]])\n",
    "u=np.array([[1,0,-1,1]])\n",
    "v=np.array([[2,1,0,0]])\n",
    "A=np.array([[1,0,1,2],[0,1,-2,0]])\n",
    "B=np.array([[1,2,1,0],[1,0,-1,1],[2,1,0,0]])"
   ]
  },
  {
   "cell_type": "code",
   "execution_count": 4,
   "id": "68dfc40b",
   "metadata": {},
   "outputs": [
    {
     "data": {
      "text/plain": [
       "array([[2],\n",
       "       [0]])"
      ]
     },
     "execution_count": 4,
     "metadata": {},
     "output_type": "execute_result"
    }
   ],
   "source": [
    "A@w.T"
   ]
  },
  {
   "cell_type": "code",
   "execution_count": 5,
   "id": "b5dcca43",
   "metadata": {},
   "outputs": [
    {
     "data": {
      "text/plain": [
       "array([[2],\n",
       "       [2]])"
      ]
     },
     "execution_count": 5,
     "metadata": {},
     "output_type": "execute_result"
    }
   ],
   "source": [
    "A@u.T"
   ]
  },
  {
   "cell_type": "code",
   "execution_count": 6,
   "id": "82266417",
   "metadata": {},
   "outputs": [
    {
     "data": {
      "text/plain": [
       "array([[2],\n",
       "       [1]])"
      ]
     },
     "execution_count": 6,
     "metadata": {},
     "output_type": "execute_result"
    }
   ],
   "source": [
    "A@v.T"
   ]
  },
  {
   "cell_type": "code",
   "execution_count": 7,
   "id": "96911f6f",
   "metadata": {},
   "outputs": [
    {
     "data": {
      "text/plain": [
       "array([[2, 2, 2],\n",
       "       [0, 2, 1]])"
      ]
     },
     "execution_count": 7,
     "metadata": {},
     "output_type": "execute_result"
    }
   ],
   "source": [
    "A@B.T"
   ]
  },
  {
   "cell_type": "code",
   "execution_count": 8,
   "id": "68fff0ec",
   "metadata": {},
   "outputs": [],
   "source": [
    "#Macierz B 'składa' sie z wektorów w,u,v"
   ]
  },
  {
   "cell_type": "code",
   "execution_count": 9,
   "id": "d4a762b1",
   "metadata": {},
   "outputs": [
    {
     "data": {
      "text/plain": [
       "-2.0000000000000004"
      ]
     },
     "execution_count": 9,
     "metadata": {},
     "output_type": "execute_result"
    }
   ],
   "source": [
    "#Zadanie 2\n",
    "#Sprawdź czy wektory są liniowo zależne\n",
    "G=np.array([[1,-1,1],[1,2,3],[2,-1,2]])\n",
    "det(G)"
   ]
  },
  {
   "cell_type": "code",
   "execution_count": 10,
   "id": "6c8edf14",
   "metadata": {},
   "outputs": [],
   "source": [
    "#nie są liniowo zależne"
   ]
  },
  {
   "cell_type": "code",
   "execution_count": 11,
   "id": "9ced496b",
   "metadata": {},
   "outputs": [
    {
     "data": {
      "text/plain": [
       "0.0"
      ]
     },
     "execution_count": 11,
     "metadata": {},
     "output_type": "execute_result"
    }
   ],
   "source": [
    "O=np.array([[1,-1,1],[4,4,4],[1,2,1]])\n",
    "det(O)"
   ]
  },
  {
   "cell_type": "code",
   "execution_count": 12,
   "id": "2d25269d",
   "metadata": {},
   "outputs": [],
   "source": [
    "# są liniowo zależne"
   ]
  },
  {
   "cell_type": "code",
   "execution_count": 13,
   "id": "b0d2cc4b",
   "metadata": {},
   "outputs": [],
   "source": [
    "#Zadanie 3 Policz normy wektorów\n",
    "v=np.array([[1,-1,1]])\n",
    "w=np.array([[1,2,3]])\n",
    "u=np.array([[2,-1,2]])\n",
    "x=np.array([[1,-1,1]])\n",
    "y=np.array([[4,4,4]])\n",
    "z=np.array([[1,2,1]])"
   ]
  },
  {
   "cell_type": "code",
   "execution_count": 14,
   "id": "32bacab9",
   "metadata": {},
   "outputs": [
    {
     "data": {
      "text/plain": [
       "1.7320508075688772"
      ]
     },
     "execution_count": 14,
     "metadata": {},
     "output_type": "execute_result"
    }
   ],
   "source": [
    "sqrt(v@v.T)"
   ]
  },
  {
   "cell_type": "code",
   "execution_count": 15,
   "id": "d6df1961",
   "metadata": {},
   "outputs": [
    {
     "data": {
      "text/plain": [
       "3.7416573867739413"
      ]
     },
     "execution_count": 15,
     "metadata": {},
     "output_type": "execute_result"
    }
   ],
   "source": [
    "sqrt(w@w.T)"
   ]
  },
  {
   "cell_type": "code",
   "execution_count": 16,
   "id": "4ef4476e",
   "metadata": {},
   "outputs": [
    {
     "data": {
      "text/plain": [
       "3.0"
      ]
     },
     "execution_count": 16,
     "metadata": {},
     "output_type": "execute_result"
    }
   ],
   "source": [
    "sqrt(u@u.T)"
   ]
  },
  {
   "cell_type": "code",
   "execution_count": 21,
   "id": "5c1329f5",
   "metadata": {},
   "outputs": [
    {
     "name": "stdout",
     "output_type": "stream",
     "text": [
      "[array([[ 30., -15.,  30.]])]\n"
     ]
    }
   ],
   "source": [
    "#Zadanie 4 - Dokonaj rzutów wektorów \n",
    "print([(x@u.T/u@u.T)*u])"
   ]
  },
  {
   "cell_type": "code",
   "execution_count": 23,
   "id": "87c643f8",
   "metadata": {},
   "outputs": [
    {
     "name": "stdout",
     "output_type": "stream",
     "text": [
      "[array([[ 36., -36.,  36.]])]\n"
     ]
    }
   ],
   "source": [
    "print([(y@u.T/v@v.T)*v])"
   ]
  },
  {
   "cell_type": "code",
   "execution_count": 27,
   "id": "0d6cdd08",
   "metadata": {},
   "outputs": [
    {
     "name": "stdout",
     "output_type": "stream",
     "text": [
      "[array([[12., -6., 12.]])]\n"
     ]
    }
   ],
   "source": [
    "print([(z@u.T/u@u.T)*u])"
   ]
  },
  {
   "cell_type": "code",
   "execution_count": 28,
   "id": "c28f5bbf",
   "metadata": {},
   "outputs": [
    {
     "name": "stdout",
     "output_type": "stream",
     "text": [
      "[array([[12., -6., 12.]])]\n"
     ]
    }
   ],
   "source": [
    "print([(z@u.T/u@u.T)*u])"
   ]
  },
  {
   "cell_type": "code",
   "execution_count": 29,
   "id": "c03abedd",
   "metadata": {},
   "outputs": [],
   "source": [
    "#Zadanie 5 - Znormalizuj wektory, wykonaj rzutowanie"
   ]
  },
  {
   "cell_type": "code",
   "execution_count": 30,
   "id": "4843a0c5",
   "metadata": {},
   "outputs": [
    {
     "data": {
      "text/plain": [
       "array([[ 0.66666667, -0.33333333,  0.66666667]])"
      ]
     },
     "execution_count": 30,
     "metadata": {},
     "output_type": "execute_result"
    }
   ],
   "source": [
    "unorm = u/sqrt(u@u.T)\n",
    "unorm"
   ]
  },
  {
   "cell_type": "code",
   "execution_count": 31,
   "id": "1cc1f70e",
   "metadata": {},
   "outputs": [
    {
     "data": {
      "text/plain": [
       "array([[ 0.57735027, -0.57735027,  0.57735027]])"
      ]
     },
     "execution_count": 31,
     "metadata": {},
     "output_type": "execute_result"
    }
   ],
   "source": [
    "vnorm = v/sqrt(v@v.T)\n",
    "vnorm"
   ]
  },
  {
   "cell_type": "code",
   "execution_count": 32,
   "id": "71cc69d6",
   "metadata": {},
   "outputs": [
    {
     "data": {
      "text/plain": [
       "array([[0.26726124, 0.53452248, 0.80178373]])"
      ]
     },
     "execution_count": 32,
     "metadata": {},
     "output_type": "execute_result"
    }
   ],
   "source": [
    "wnorm = w/sqrt(w@w.T)\n",
    "wnorm"
   ]
  },
  {
   "cell_type": "code",
   "execution_count": 33,
   "id": "35cea69a",
   "metadata": {},
   "outputs": [
    {
     "name": "stdout",
     "output_type": "stream",
     "text": [
      "[array([[ 1.33333333, -0.66666667,  1.33333333]])]\n"
     ]
    }
   ],
   "source": [
    "print([(z@unorm.T/unorm@unorm.T)*unorm])"
   ]
  },
  {
   "cell_type": "code",
   "execution_count": 34,
   "id": "bacabdba",
   "metadata": {},
   "outputs": [
    {
     "name": "stdout",
     "output_type": "stream",
     "text": [
      "[array([[ 3.33333333, -1.66666667,  3.33333333]])]\n"
     ]
    }
   ],
   "source": [
    "print([(x@unorm.T/unorm@unorm.T)*unorm])"
   ]
  },
  {
   "cell_type": "code",
   "execution_count": 35,
   "id": "1770bcba",
   "metadata": {},
   "outputs": [
    {
     "name": "stdout",
     "output_type": "stream",
     "text": [
      "[array([[ 8., -4.,  8.]])]\n"
     ]
    }
   ],
   "source": [
    "print([(y@unorm.T/unorm@unorm.T)*unorm])"
   ]
  },
  {
   "cell_type": "code",
   "execution_count": 36,
   "id": "42c378cf",
   "metadata": {},
   "outputs": [
    {
     "name": "stdout",
     "output_type": "stream",
     "text": [
      "[array([[ 3., -3.,  3.]])]\n"
     ]
    }
   ],
   "source": [
    "print([(x@vnorm.T/vnorm@vnorm.T)*vnorm])"
   ]
  },
  {
   "cell_type": "code",
   "execution_count": 37,
   "id": "d430192c",
   "metadata": {},
   "outputs": [
    {
     "name": "stdout",
     "output_type": "stream",
     "text": [
      "[array([[ 4., -4.,  4.]])]\n"
     ]
    }
   ],
   "source": [
    "print([(y@vnorm.T/vnorm@vnorm.T)*vnorm])"
   ]
  },
  {
   "cell_type": "code",
   "execution_count": 38,
   "id": "a1337266",
   "metadata": {},
   "outputs": [
    {
     "name": "stdout",
     "output_type": "stream",
     "text": [
      "[array([[ 0., -0.,  0.]])]\n"
     ]
    }
   ],
   "source": [
    "print([(z@vnorm.T/vnorm@vnorm.T)*vnorm])"
   ]
  },
  {
   "cell_type": "code",
   "execution_count": null,
   "id": "79f49e6a",
   "metadata": {},
   "outputs": [],
   "source": []
  }
 ],
 "metadata": {
  "kernelspec": {
   "display_name": "Python 3",
   "language": "python",
   "name": "python3"
  },
  "language_info": {
   "codemirror_mode": {
    "name": "ipython",
    "version": 3
   },
   "file_extension": ".py",
   "mimetype": "text/x-python",
   "name": "python",
   "nbconvert_exporter": "python",
   "pygments_lexer": "ipython3",
   "version": "3.8.8"
  }
 },
 "nbformat": 4,
 "nbformat_minor": 5
}
